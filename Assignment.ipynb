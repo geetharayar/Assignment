{
 "cells": [
  {
   "cell_type": "markdown",
   "id": "36df5985-3293-41e5-b630-319964c5b261",
   "metadata": {},
   "source": [
    "My Jupyter Notebook on Skills Netork"
   ]
  },
  {
   "cell_type": "markdown",
   "id": "b2bc2355-e4f2-4d99-b216-a7d4bc4c9aa3",
   "metadata": {},
   "source": [
    "**Geetha Arunachalam**  \n",
    "Data Scientist Freelance Consultant"
   ]
  },
  {
   "cell_type": "markdown",
   "id": "9e88925d-ff5c-417b-bc6e-d364b0526f50",
   "metadata": {},
   "source": [
    "*I am interested in Datascience as my job involves deriving insights from the data and building decision strategies based on predictive model score*"
   ]
  },
  {
   "cell_type": "markdown",
   "id": "3652b9bd-3dc6-470f-aa5d-62ca7ba457a8",
   "metadata": {},
   "source": [
    "### Add two numbers and display the output"
   ]
  },
  {
   "cell_type": "code",
   "execution_count": 2,
   "id": "cd428f77-c83d-4ddc-88d2-1a18916db383",
   "metadata": {},
   "outputs": [
    {
     "name": "stdout",
     "output_type": "stream",
     "text": [
      "11\n"
     ]
    }
   ],
   "source": [
    "a = 5\n",
    "b=  6\n",
    "c= a+b \n",
    "print (c)"
   ]
  },
  {
   "cell_type": "markdown",
   "id": "66625928-af12-4c8e-85f5-ab80248e2257",
   "metadata": {},
   "source": [
    "### Bulleted List\n",
    "- Fruits  \n",
    "    - Apple  \n",
    "    - Bananana\n",
    "    \n",
    "### Numbered List\n",
    "1. City\n",
    "1. Address\n",
    "\n",
    "### Tables \n",
    "\n",
    "| Country | State | City |\n",
    "| --- | --- | --- |\n",
    "| India | Tamilnadu | Chennai |\n",
    "\n",
    "### Horizontal Lines\n",
    "***\n",
    "\n",
    "### Link\n",
    "\n",
    "__[gitlocation](https://github.com/geetharayar/Example)__"
   ]
  },
  {
   "cell_type": "code",
   "execution_count": null,
   "id": "02500c59-e422-493a-9ebf-2b9064dbc274",
   "metadata": {},
   "outputs": [],
   "source": []
  }
 ],
 "metadata": {
  "kernelspec": {
   "display_name": "Python",
   "language": "python",
   "name": "conda-env-python-py"
  },
  "language_info": {
   "codemirror_mode": {
    "name": "ipython",
    "version": 3
   },
   "file_extension": ".py",
   "mimetype": "text/x-python",
   "name": "python",
   "nbconvert_exporter": "python",
   "pygments_lexer": "ipython3",
   "version": "3.7.12"
  }
 },
 "nbformat": 4,
 "nbformat_minor": 5
}
